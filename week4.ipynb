{
 "cells": [
  {
   "cell_type": "markdown",
   "id": "c3ebe87c-b2e4-4efb-9df8-d3873fa961e0",
   "metadata": {},
   "source": [
    "# CSCA 5642 Introduction to Deep Learning Week 4 Homework"
   ]
  },
  {
   "cell_type": "markdown",
   "id": "90b26f24-f845-43f2-8ab7-430564dc41ac",
   "metadata": {},
   "source": [
    "## Preparation"
   ]
  },
  {
   "cell_type": "code",
   "execution_count": 3,
   "id": "08430069-af2d-45e0-aa36-762fe27bca5e",
   "metadata": {},
   "outputs": [],
   "source": [
    "import pandas as pd\n",
    "import numpy as np\n",
    "import os\n",
    "import seaborn as sns\n",
    "import matplotlib.pyplot as plt\n",
    "import tensorflow as tf\n",
    "from tensorflow.keras.preprocessing.text import Tokenizer\n",
    "from tensorflow.keras.preprocessing.sequence import pad_sequences\n",
    "from sklearn.model_selection import train_test_split\n",
    "from tensorflow.keras import models, layers\n",
    "import random\n",
    "import keras_tuner as kt\n",
    "\n",
    "# fix random seed for reproducibility\n",
    "SEED = 0\n",
    "np.random.seed(SEED)\n",
    "os.environ['PYTHONHASHSEED'] = str(SEED)\n",
    "random.seed(SEED)\n",
    "tf.random.set_seed(SEED)"
   ]
  },
  {
   "cell_type": "code",
   "execution_count": 32,
   "id": "f661be10-168e-4f9f-9735-effad6ed142a",
   "metadata": {},
   "outputs": [],
   "source": [
    "project_root = '/home/lee/Documents/CSCA5642/week4/'\n",
    "data_folder = os.path.join(project_root, 'nlp-getting-started')\n",
    "model_folder = os.path.join(project_root, 'models')\n",
    "\n",
    "train_orig = pd.read_csv(os.path.join(data_folder, 'train.csv'))\n",
    "test_orig = pd.read_csv(os.path.join(data_folder, 'test.csv'))"
   ]
  },
  {
   "cell_type": "markdown",
   "id": "509b32a7-e502-482c-a1a7-de77f6b52add",
   "metadata": {},
   "source": [
    "## Description of the problem and data\n",
    "\n",
    "**Data source**: https://www.kaggle.com/c/nlp-getting-started/\n",
    "\n",
    "**Challenge problem**: This is a binary text classification problem. The input dataset contains Twitter tweets. Our task is to use deep learning techniques to identify if the tweet is describing a real disaster or otherwise. "
   ]
  },
  {
   "cell_type": "markdown",
   "id": "4f02427d-bdb5-4f85-b10b-997aa13cc00b",
   "metadata": {},
   "source": [
    "### Size"
   ]
  },
  {
   "cell_type": "code",
   "execution_count": 5,
   "id": "612f5828-0289-4859-aa78-e0462fbd862d",
   "metadata": {},
   "outputs": [
    {
     "name": "stdout",
     "output_type": "stream",
     "text": [
      "Training data size: 38065\n",
      "Test data size: 13052\n"
     ]
    }
   ],
   "source": [
    "print(f\"Training data size: {train_orig.size}\")\n",
    "print(f\"Test data size: {test_orig.size}\")"
   ]
  },
  {
   "cell_type": "markdown",
   "id": "9ea0a76f-769c-43ed-b709-e5479860692a",
   "metadata": {},
   "source": [
    "### Dimension"
   ]
  },
  {
   "cell_type": "code",
   "execution_count": 6,
   "id": "7377a730-7982-4079-83fd-e9b50cf6adf9",
   "metadata": {},
   "outputs": [
    {
     "name": "stdout",
     "output_type": "stream",
     "text": [
      "Training data shape: (7613, 5)\n",
      "Test data shape: (3263, 4)\n"
     ]
    }
   ],
   "source": [
    "print(f\"Training data shape: {train_orig.shape}\")\n",
    "print(f\"Test data shape: {test_orig.shape}\")"
   ]
  },
  {
   "cell_type": "markdown",
   "id": "afcbd010-ae7c-4d40-83d9-5b3fff1829d2",
   "metadata": {},
   "source": [
    "### Structure"
   ]
  },
  {
   "cell_type": "code",
   "execution_count": 7,
   "id": "6a448257-a247-4cb0-b140-5b146e07668c",
   "metadata": {},
   "outputs": [
    {
     "name": "stdout",
     "output_type": "stream",
     "text": [
      "Training data structure: \n",
      "   id keyword location                                               text  \\\n",
      "0   1     NaN      NaN  Our Deeds are the Reason of this #earthquake M...   \n",
      "1   4     NaN      NaN             Forest fire near La Ronge Sask. Canada   \n",
      "2   5     NaN      NaN  All residents asked to 'shelter in place' are ...   \n",
      "3   6     NaN      NaN  13,000 people receive #wildfires evacuation or...   \n",
      "4   7     NaN      NaN  Just got sent this photo from Ruby #Alaska as ...   \n",
      "\n",
      "   target  \n",
      "0       1  \n",
      "1       1  \n",
      "2       1  \n",
      "3       1  \n",
      "4       1  \n",
      "Test data structure: \n",
      "   id keyword location                                               text\n",
      "0   0     NaN      NaN                 Just happened a terrible car crash\n",
      "1   2     NaN      NaN  Heard about #earthquake is different cities, s...\n",
      "2   3     NaN      NaN  there is a forest fire at spot pond, geese are...\n",
      "3   9     NaN      NaN           Apocalypse lighting. #Spokane #wildfires\n",
      "4  11     NaN      NaN      Typhoon Soudelor kills 28 in China and Taiwan\n"
     ]
    }
   ],
   "source": [
    "print(f'Training data structure: \\n{train_orig.head()}')\n",
    "print(f'Test data structure: \\n{test_orig.head()}')"
   ]
  },
  {
   "cell_type": "markdown",
   "id": "00a71216-e0f0-42ec-b7a7-f8296ef5841f",
   "metadata": {},
   "source": [
    "## Exploratory Data Analysis (EDA)"
   ]
  },
  {
   "cell_type": "markdown",
   "id": "1cac3f74-6b94-4499-9964-5f70c011130d",
   "metadata": {},
   "source": [
    "### Inspect the Data"
   ]
  },
  {
   "cell_type": "code",
   "execution_count": 8,
   "id": "ec7e32f1-2707-4c1c-8155-f591c9b88c36",
   "metadata": {},
   "outputs": [
    {
     "data": {
      "text/plain": [
       "target\n",
       "0    4342\n",
       "1    3271\n",
       "Name: count, dtype: int64"
      ]
     },
     "execution_count": 8,
     "metadata": {},
     "output_type": "execute_result"
    }
   ],
   "source": [
    "train_orig['target'].value_counts()"
   ]
  },
  {
   "cell_type": "code",
   "execution_count": 9,
   "id": "20e7e6bf-9d86-4277-b552-aa6e4868b975",
   "metadata": {},
   "outputs": [
    {
     "data": {
      "text/plain": [
       "target\n",
       "0    0.57034\n",
       "1    0.42966\n",
       "Name: proportion, dtype: float64"
      ]
     },
     "execution_count": 9,
     "metadata": {},
     "output_type": "execute_result"
    }
   ],
   "source": [
    "train_orig['target'].value_counts(normalize=True)"
   ]
  },
  {
   "cell_type": "markdown",
   "id": "e4fa2d51-b486-42ea-a588-7372cb6b3598",
   "metadata": {},
   "source": [
    "### Visualize the Data"
   ]
  },
  {
   "cell_type": "code",
   "execution_count": 10,
   "id": "3cfbf626-b4e2-4df6-bcb6-0ddc4fa69e1a",
   "metadata": {},
   "outputs": [
    {
     "data": {
      "image/png": "[encoded data removed]",
      "text/plain": [
       "<Figure size 640x480 with 1 Axes>"
      ]
     },
     "metadata": {},
     "output_type": "display_data"
    }
   ],
   "source": [
    "sns.histplot(train_orig, x='target')\n",
    "plt.xticks([0, 1])\n",
    "plt.title('Count of samples, by target')\n",
    "plt.tight_layout()\n",
    "plt.show()"
   ]
  },
  {
   "cell_type": "markdown",
   "id": "fef439c3-2f44-4e8a-84ed-69b9b81c02bf",
   "metadata": {},
   "source": [
    "## Analysis plan\n",
    "\n",
    "Upon inspecting the data, we notice that many tweets contain hashtags; we will remove the pound sign from the tweets. Apart from this, due to time constraints, we will not perform extensive preprocessing of the text; we will only apply tokenization and padding/truncating each tweet to a fixed length.\n",
    "\n",
    "After processing the data we will fit a RNN model to perform this text classification. Then we will fit another RNN model with a different architecture and compare their performances. Then we will perform hyperparameter tuning on the selected model. "
   ]
  },
  {
   "cell_type": "markdown",
   "id": "7c1d9371-1d93-44db-a988-4db59be3f55d",
   "metadata": {},
   "source": [
    "### Utilities"
   ]
  },
  {
   "cell_type": "code",
   "execution_count": 13,
   "id": "97476662-95cf-40f3-8260-8516b7679dc0",
   "metadata": {},
   "outputs": [],
   "source": [
    "def summarize_history(model_history):\n",
    "    \"\"\"Plot the relationship between the number of epochs and the selected model performance metric.\n",
    "    This plot can inform us whether we should train the model using more or fewer epochs. \n",
    "    \"\"\"\n",
    "    sns.lineplot(model_history.history['accuracy'], color='blue', label='train')\n",
    "    sns.lineplot(model_history.history['val_accuracy'], color='green', label='validation')\n",
    "    plt.title('model accuracy')\n",
    "    plt.ylabel('accuracy')\n",
    "    plt.xlabel('epoch')\n",
    "    plt.legend(loc='best')\n",
    "\n",
    "hparams = {\n",
    "    \"batch_size\": 16,\n",
    "    \"epochs\": 10,\n",
    "    \"constraint_learning_rate\": 0.01,\n",
    "    \"embedding_dim\": 32,\n",
    "    \"embedding_trainable\": False,\n",
    "    \"learning_rate\": 0.005,\n",
    "    \"max_num_words\": 1000,\n",
    "    \"max_sequence_length\": 20,\n",
    "    \"lstm_units\": 32,\n",
    "}"
   ]
  },
  {
   "cell_type": "markdown",
   "id": "7236316a-6c15-40f1-aa90-2366dc89a970",
   "metadata": {},
   "source": [
    "## Model Architecture\n",
    "\n",
    "We will fit multiple Long Short-Term Memory (LSTM) neural network models.\n",
    "\n",
    "Recurrent Neural Networks (RNNs) are commonly used in natural language processing tasks. RNNs are designed to handle sequential data by maintaining a hidden state that captures information about previous inputs in the sequence. They process input data step by step, updating their hidden state at each time step based on the current input and the previous hidden state. However, traditional RNNs suffer from the vanishing gradient problem, where gradients diminish as they are backpropagated through time, making it difficult for the network to learn long-range dependencies. This is why we use a LSTM model instead of vanilla RNN. LSTMs are a type of RNN specifically designed to address the vanishing gradient problem and capture long-range dependencies more effectively."
   ]
  },
  {
   "cell_type": "markdown",
   "id": "ab25c149-1fb3-4dcf-acd1-0e779a8c3874",
   "metadata": {},
   "source": [
    "### Define the RNN model\n",
    "\n",
    "My first RNN model contains one embedding layer to process the text and one LSTM layer. "
   ]
  },
  {
   "cell_type": "code",
   "execution_count": 14,
   "id": "e865b8ed-a76e-40ee-9187-6debe5395d4c",
   "metadata": {},
   "outputs": [
    {
     "name": "stderr",
     "output_type": "stream",
     "text": [
      "2024-02-29 15:08:25.786040: I tensorflow/compiler/xla/stream_executor/cuda/cuda_gpu_executor.cc:995] successful NUMA node read from SysFS had negative value (-1), but there must be at least one NUMA node, so returning NUMA node zero. See more at https://github.com/torvalds/linux/blob/v6.0/Documentation/ABI/testing/sysfs-bus-pci#L344-L355\n",
      "2024-02-29 15:08:25.799093: I tensorflow/compiler/xla/stream_executor/cuda/cuda_gpu_executor.cc:995] successful NUMA node read from SysFS had negative value (-1), but there must be at least one NUMA node, so returning NUMA node zero. See more at https://github.com/torvalds/linux/blob/v6.0/Documentation/ABI/testing/sysfs-bus-pci#L344-L355\n",
      "2024-02-29 15:08:25.799193: I tensorflow/compiler/xla/stream_executor/cuda/cuda_gpu_executor.cc:995] successful NUMA node read from SysFS had negative value (-1), but there must be at least one NUMA node, so returning NUMA node zero. See more at https://github.com/torvalds/linux/blob/v6.0/Documentation/ABI/testing/sysfs-bus-pci#L344-L355\n",
      "2024-02-29 15:08:25.800151: I tensorflow/compiler/xla/stream_executor/cuda/cuda_gpu_executor.cc:995] successful NUMA node read from SysFS had negative value (-1), but there must be at least one NUMA node, so returning NUMA node zero. See more at https://github.com/torvalds/linux/blob/v6.0/Documentation/ABI/testing/sysfs-bus-pci#L344-L355\n",
      "2024-02-29 15:08:25.800244: I tensorflow/compiler/xla/stream_executor/cuda/cuda_gpu_executor.cc:995] successful NUMA node read from SysFS had negative value (-1), but there must be at least one NUMA node, so returning NUMA node zero. See more at https://github.com/torvalds/linux/blob/v6.0/Documentation/ABI/testing/sysfs-bus-pci#L344-L355\n",
      "2024-02-29 15:08:25.800308: I tensorflow/compiler/xla/stream_executor/cuda/cuda_gpu_executor.cc:995] successful NUMA node read from SysFS had negative value (-1), but there must be at least one NUMA node, so returning NUMA node zero. See more at https://github.com/torvalds/linux/blob/v6.0/Documentation/ABI/testing/sysfs-bus-pci#L344-L355\n",
      "2024-02-29 15:08:25.847824: I tensorflow/compiler/xla/stream_executor/cuda/cuda_gpu_executor.cc:995] successful NUMA node read from SysFS had negative value (-1), but there must be at least one NUMA node, so returning NUMA node zero. See more at https://github.com/torvalds/linux/blob/v6.0/Documentation/ABI/testing/sysfs-bus-pci#L344-L355\n",
      "2024-02-29 15:08:25.847941: I tensorflow/compiler/xla/stream_executor/cuda/cuda_gpu_executor.cc:995] successful NUMA node read from SysFS had negative value (-1), but there must be at least one NUMA node, so returning NUMA node zero. See more at https://github.com/torvalds/linux/blob/v6.0/Documentation/ABI/testing/sysfs-bus-pci#L344-L355\n",
      "2024-02-29 15:08:25.848010: I tensorflow/compiler/xla/stream_executor/cuda/cuda_gpu_executor.cc:995] successful NUMA node read from SysFS had negative value (-1), but there must be at least one NUMA node, so returning NUMA node zero. See more at https://github.com/torvalds/linux/blob/v6.0/Documentation/ABI/testing/sysfs-bus-pci#L344-L355\n",
      "2024-02-29 15:08:25.848067: I tensorflow/core/common_runtime/gpu/gpu_device.cc:1639] Created device /job:localhost/replica:0/task:0/device:GPU:0 with 902 MB memory:  -> device: 0, name: NVIDIA GeForce RTX 2060 SUPER, pci bus id: 0000:01:00.0, compute capability: 7.5\n"
     ]
    }
   ],
   "source": [
    "model_lstm = models.Sequential([\n",
    "    layers.Embedding(input_dim=hparams[\"max_num_words\"], output_dim=hparams[\"embedding_dim\"], input_length=hparams[\"max_sequence_length\"]),\n",
    "    layers.LSTM(hparams[\"lstm_units\"]),\n",
    "    layers.Dense(units=1, activation='sigmoid')\n",
    "])\n",
    "\n",
    "\n",
    "model_lstm.compile(optimizer='adam', loss='binary_crossentropy', metrics=['accuracy'])"
   ]
  },
  {
   "cell_type": "markdown",
   "id": "f4a6a826-c27a-4e03-baff-ab9be2abd73b",
   "metadata": {},
   "source": [
    "### Model comparison\n",
    "\n",
    "My second RNN model still contains one embedding layer to process the text and one LSTM layer, but a batch normalization layer is added after the LSTM layer. "
   ]
  },
  {
   "cell_type": "code",
   "execution_count": 15,
   "id": "837ab46f-cee3-4ee8-89c9-0fc4e0363c4c",
   "metadata": {},
   "outputs": [],
   "source": [
    "# Modify the model architecture to add Batch Normalization\n",
    "model_lstm_bn = models.Sequential()\n",
    "model_lstm_bn.add(layers.Embedding(input_dim=hparams[\"max_num_words\"], output_dim=hparams[\"embedding_dim\"]))\n",
    "model_lstm_bn.add(layers.LSTM(units=hparams[\"lstm_units\"]))\n",
    "model_lstm_bn.add(layers.BatchNormalization())\n",
    "model_lstm_bn.add(layers.Dense(units=1, activation='sigmoid'))\n",
    "\n",
    "# Compile the modified model\n",
    "model_lstm_bn.compile(optimizer='adam', loss='binary_crossentropy', metrics=['accuracy'])"
   ]
  },
  {
   "cell_type": "markdown",
   "id": "7e54d4c8-1869-4837-a086-f57db6f1c4e4",
   "metadata": {},
   "source": [
    "## Results and analysis"
   ]
  },
  {
   "cell_type": "markdown",
   "id": "7f731c1f-9f24-4295-b935-4a6c6430fe8d",
   "metadata": {},
   "source": [
    "### Prepare training data"
   ]
  },
  {
   "cell_type": "code",
   "execution_count": 16,
   "id": "41fd84e2-9455-4a4c-bdf6-62c44df02d96",
   "metadata": {},
   "outputs": [],
   "source": [
    "train_orig['removepound'] = train_orig['text'].str.replace('#', '')\n",
    "\n",
    "# Split the data into training and testing sets\n",
    "train_texts, test_texts, train_labels, test_labels = train_test_split(train_orig['removepound'], train_orig['target'], test_size=0.2, random_state=42)\n",
    "\n",
    "# Tokenize the texts\n",
    "tokenizer = Tokenizer(num_words=hparams[\"max_num_words\"])\n",
    "tokenizer.fit_on_texts(train_texts)\n",
    "\n",
    "# Convert texts to sequences\n",
    "train_sequences = tokenizer.texts_to_sequences(train_texts)\n",
    "test_sequences = tokenizer.texts_to_sequences(test_texts)\n",
    "\n",
    "# Pad sequences to have the same length\n",
    "train_data = pad_sequences(train_sequences, maxlen=hparams[\"max_sequence_length\"])\n",
    "test_data = pad_sequences(test_sequences, maxlen=hparams[\"max_sequence_length\"])"
   ]
  },
  {
   "cell_type": "markdown",
   "id": "b5f7b240-ec71-490b-b8c5-7452e06fb55d",
   "metadata": {},
   "source": [
    "### Train the model"
   ]
  },
  {
   "cell_type": "code",
   "execution_count": 17,
   "id": "7194b643-83a3-455e-b117-1d2733a6d819",
   "metadata": {},
   "outputs": [
    {
     "name": "stdout",
     "output_type": "stream",
     "text": [
      "Epoch 1/10\n"
     ]
    },
    {
     "name": "stderr",
     "output_type": "stream",
     "text": [
      "2024-02-29 15:08:37.443329: I tensorflow/compiler/xla/stream_executor/cuda/cuda_dnn.cc:432] Loaded cuDNN version 8800\n",
      "2024-02-29 15:08:37.477667: I tensorflow/compiler/xla/service/service.cc:168] XLA service 0x7fe968565050 initialized for platform CUDA (this does not guarantee that XLA will be used). Devices:\n",
      "2024-02-29 15:08:37.477682: I tensorflow/compiler/xla/service/service.cc:176]   StreamExecutor device (0): NVIDIA GeForce RTX 2060 SUPER, Compute Capability 7.5\n",
      "2024-02-29 15:08:37.480160: I tensorflow/compiler/mlir/tensorflow/utils/dump_mlir_util.cc:255] disabling MLIR crash reproducer, set env var `MLIR_CRASH_REPRODUCER_DIRECTORY` to enable.\n",
      "2024-02-29 15:08:37.488651: W tensorflow/compiler/xla/service/gpu/llvm_gpu_backend/gpu_backend_lib.cc:543] Can't find libdevice directory ${CUDA_DIR}/nvvm/libdevice. This may result in compilation or runtime failures, if the program we try to run uses routines from libdevice.\n",
      "Searched for CUDA in the following directories:\n",
      "  ./cuda_sdk_lib\n",
      "  /usr/local/cuda-11.8\n",
      "  /usr/local/cuda\n",
      "  .\n",
      "You can choose the search directory by setting xla_gpu_cuda_data_dir in HloModule's DebugOptions.  For most apps, setting the environment variable XLA_FLAGS=--xla_gpu_cuda_data_dir=/path/to/cuda will work.\n",
      "2024-02-29 15:08:37.526262: I ./tensorflow/compiler/jit/device_compiler.h:186] Compiled cluster using XLA!  This line is logged at most once for the lifetime of the process.\n"
     ]
    },
    {
     "name": "stdout",
     "output_type": "stream",
     "text": [
      "305/305 [==============================] - 5s 14ms/step - loss: 0.5559 - accuracy: 0.7022 - val_loss: 0.4835 - val_accuracy: 0.7660\n",
      "Epoch 2/10\n",
      "305/305 [==============================] - 1s 3ms/step - loss: 0.4068 - accuracy: 0.8212 - val_loss: 0.4600 - val_accuracy: 0.7890\n",
      "Epoch 3/10\n",
      "305/305 [==============================] - 1s 2ms/step - loss: 0.3698 - accuracy: 0.8368 - val_loss: 0.4799 - val_accuracy: 0.7865\n",
      "Epoch 4/10\n",
      "305/305 [==============================] - 1s 2ms/step - loss: 0.3542 - accuracy: 0.8459 - val_loss: 0.5048 - val_accuracy: 0.7833\n",
      "Epoch 5/10\n",
      "305/305 [==============================] - 1s 2ms/step - loss: 0.3393 - accuracy: 0.8553 - val_loss: 0.5043 - val_accuracy: 0.7898\n",
      "Epoch 6/10\n",
      "305/305 [==============================] - 1s 2ms/step - loss: 0.3258 - accuracy: 0.8580 - val_loss: 0.5081 - val_accuracy: 0.7931\n",
      "Epoch 7/10\n",
      "305/305 [==============================] - 1s 2ms/step - loss: 0.3088 - accuracy: 0.8744 - val_loss: 0.5696 - val_accuracy: 0.7791\n",
      "Epoch 8/10\n",
      "305/305 [==============================] - 0s 2ms/step - loss: 0.2911 - accuracy: 0.8766 - val_loss: 0.6057 - val_accuracy: 0.7964\n",
      "Epoch 9/10\n",
      "305/305 [==============================] - 0s 1ms/step - loss: 0.2784 - accuracy: 0.8820 - val_loss: 0.6050 - val_accuracy: 0.7898\n",
      "Epoch 10/10\n",
      "305/305 [==============================] - 1s 2ms/step - loss: 0.2566 - accuracy: 0.8920 - val_loss: 0.6169 - val_accuracy: 0.7833\n",
      "48/48 [==============================] - 0s 657us/step - loss: 0.6344 - accuracy: 0.7676\n",
      "Test Accuracy: 0.7675639986991882\n"
     ]
    }
   ],
   "source": [
    "history_lstm = model_lstm.fit(train_data, train_labels, epochs=hparams[\"epochs\"], batch_size=hparams[\"batch_size\"], validation_split=0.2)\n",
    "\n",
    "# Evaluate the model\n",
    "test_loss, test_acc = model_lstm.evaluate(test_data, test_labels)\n",
    "print(f'Test Accuracy: {test_acc}')"
   ]
  },
  {
   "cell_type": "code",
   "execution_count": 19,
   "id": "ef071252-a764-42c8-a02e-8f5549b38a98",
   "metadata": {},
   "outputs": [
    {
     "data": {
      "image/png": "[encoded data removed]",
      "text/plain": [
       "<Figure size 640x480 with 1 Axes>"
      ]
     },
     "metadata": {},
     "output_type": "display_data"
    }
   ],
   "source": [
    "summarize_history(history_lstm)"
   ]
  },
  {
   "cell_type": "markdown",
   "id": "879f77e1-511a-4d81-aa9e-e90f99f62a32",
   "metadata": {},
   "source": [
    "### Train the other RNN model"
   ]
  },
  {
   "cell_type": "code",
   "execution_count": 18,
   "id": "6dd6b237-18ec-408d-a482-d1714d6139dd",
   "metadata": {},
   "outputs": [
    {
     "name": "stdout",
     "output_type": "stream",
     "text": [
      "Epoch 1/10\n",
      "305/305 [==============================] - 5s 12ms/step - loss: 0.5338 - accuracy: 0.7334 - val_loss: 0.5899 - val_accuracy: 0.7365\n",
      "Epoch 2/10\n",
      "305/305 [==============================] - 1s 3ms/step - loss: 0.4270 - accuracy: 0.8091 - val_loss: 0.5103 - val_accuracy: 0.7734\n",
      "Epoch 3/10\n",
      "305/305 [==============================] - 1s 2ms/step - loss: 0.3808 - accuracy: 0.8325 - val_loss: 0.5488 - val_accuracy: 0.7479\n",
      "Epoch 4/10\n",
      "305/305 [==============================] - 1s 2ms/step - loss: 0.3429 - accuracy: 0.8567 - val_loss: 0.5439 - val_accuracy: 0.7644\n",
      "Epoch 5/10\n",
      "305/305 [==============================] - 1s 2ms/step - loss: 0.3102 - accuracy: 0.8684 - val_loss: 0.9111 - val_accuracy: 0.7447\n",
      "Epoch 6/10\n",
      "305/305 [==============================] - 1s 2ms/step - loss: 0.2898 - accuracy: 0.8732 - val_loss: 0.6884 - val_accuracy: 0.7455\n",
      "Epoch 7/10\n",
      "305/305 [==============================] - 1s 2ms/step - loss: 0.2716 - accuracy: 0.8834 - val_loss: 0.7087 - val_accuracy: 0.7586\n",
      "Epoch 8/10\n",
      "305/305 [==============================] - 1s 2ms/step - loss: 0.2597 - accuracy: 0.8916 - val_loss: 0.8657 - val_accuracy: 0.7586\n",
      "Epoch 9/10\n",
      "305/305 [==============================] - 1s 2ms/step - loss: 0.2334 - accuracy: 0.9058 - val_loss: 0.7913 - val_accuracy: 0.7430\n",
      "Epoch 10/10\n",
      "305/305 [==============================] - 1s 2ms/step - loss: 0.2347 - accuracy: 0.9109 - val_loss: 0.7679 - val_accuracy: 0.7307\n",
      "48/48 [==============================] - 0s 756us/step - loss: 0.7753 - accuracy: 0.7163\n",
      "Test Accuracy: 0.7163493037223816\n"
     ]
    }
   ],
   "source": [
    "history_lstm_bn = model_lstm_bn.fit(train_data, train_labels, epochs=hparams[\"epochs\"], batch_size=hparams[\"batch_size\"], validation_split=0.2)\n",
    "\n",
    "# Evaluate the model\n",
    "test_loss, test_acc = model_lstm_bn.evaluate(test_data, test_labels)\n",
    "print(f'Test Accuracy: {test_acc}')"
   ]
  },
  {
   "cell_type": "code",
   "execution_count": 20,
   "id": "333911ef-bb9e-445f-a641-552df29e4aea",
   "metadata": {},
   "outputs": [
    {
     "data": {
      "image/png": "[encoded data removed]",
      "text/plain": [
       "<Figure size 640x480 with 1 Axes>"
      ]
     },
     "metadata": {},
     "output_type": "display_data"
    }
   ],
   "source": [
    "summarize_history(history_lstm_bn)"
   ]
  },
  {
   "cell_type": "markdown",
   "id": "68e94385-50bf-444a-8510-148634183cc0",
   "metadata": {},
   "source": [
    "We will proceed with the model without the BatchNormalization layer. Next we will optimize it via hyperparameter tuning."
   ]
  },
  {
   "cell_type": "markdown",
   "id": "c4405a94-11a3-4294-83db-18434fefe88c",
   "metadata": {},
   "source": [
    "### Hyperparameter optimization"
   ]
  },
  {
   "cell_type": "code",
   "execution_count": 21,
   "id": "78f8bf5f-7e5d-46a5-852d-c6434c112347",
   "metadata": {},
   "outputs": [],
   "source": [
    "def model_builder(hp):\n",
    "\n",
    "    model = models.Sequential()\n",
    "    model.add(layers.Embedding(input_dim=hparams[\"max_num_words\"], output_dim=hparams[\"embedding_dim\"], input_length=hparams[\"max_sequence_length\"]))\n",
    "    hp_units = hp.Int('units', min_value=16, max_value=128, step=16)\n",
    "    model.add(layers.LSTM(hp_units))\n",
    "    model.add(layers.Dense(units=1, activation='sigmoid'))\n",
    "\n",
    "    hp_learning_rate = hp.Choice('learning_rate', values=[1e-2, 1e-3, 1e-4])\n",
    "    model.compile(loss='binary_crossentropy', optimizer=tf.keras.optimizers.Adam(learning_rate=hp_learning_rate), metrics=['accuracy'])\n",
    "\n",
    "    return model"
   ]
  },
  {
   "cell_type": "code",
   "execution_count": 22,
   "id": "3addb89f-8518-43e7-b56d-d4f2f3610002",
   "metadata": {},
   "outputs": [],
   "source": [
    "tuner = kt.Hyperband(model_builder,\n",
    "                     objective='val_accuracy',\n",
    "                     max_epochs=hparams[\"epochs\"],\n",
    "                     factor=3,\n",
    "                     )"
   ]
  },
  {
   "cell_type": "code",
   "execution_count": 23,
   "id": "d7a743ac-5a63-4c8e-a66e-d3b1a3ee8c69",
   "metadata": {},
   "outputs": [],
   "source": [
    "stop_early = tf.keras.callbacks.EarlyStopping(monitor='val_loss', patience=5)"
   ]
  },
  {
   "cell_type": "code",
   "execution_count": 24,
   "id": "2eda726f-d12f-4afd-8016-e21386e93d20",
   "metadata": {},
   "outputs": [
    {
     "name": "stdout",
     "output_type": "stream",
     "text": [
      "Trial 30 Complete [00h 00m 09s]\n",
      "val_accuracy: 0.7783251404762268\n",
      "\n",
      "Best val_accuracy So Far: 0.7972085475921631\n",
      "Total elapsed time: 00h 03m 05s\n",
      "\n",
      "The hyperparameter search is complete. The optimal number of units in the LSTM\n",
      "layer is 16 and the optimal learning rate for the optimizer\n",
      "is 0.001.\n",
      "\n"
     ]
    }
   ],
   "source": [
    "tuner.search(train_data, train_labels, epochs=hparams[\"epochs\"], validation_split=0.2, callbacks=[stop_early])\n",
    "\n",
    "# Get the optimal hyperparameters\n",
    "best_hps = tuner.get_best_hyperparameters(num_trials=1)[0]\n",
    "\n",
    "print(f\"\"\"\n",
    "The hyperparameter search is complete. The optimal number of units in the LSTM\n",
    "layer is {best_hps.get('units')} and the optimal learning rate for the optimizer\n",
    "is {best_hps.get('learning_rate')}.\n",
    "\"\"\")"
   ]
  },
  {
   "cell_type": "code",
   "execution_count": 25,
   "id": "f49a843e-cced-450c-92e1-209c9ebb0887",
   "metadata": {},
   "outputs": [
    {
     "name": "stdout",
     "output_type": "stream",
     "text": [
      "Epoch 1/10\n",
      "153/153 [==============================] - 4s 23ms/step - loss: 0.6124 - accuracy: 0.6626 - val_loss: 0.5337 - val_accuracy: 0.7504\n",
      "Epoch 2/10\n",
      "153/153 [==============================] - 1s 5ms/step - loss: 0.4409 - accuracy: 0.8081 - val_loss: 0.4575 - val_accuracy: 0.7915\n",
      "Epoch 3/10\n",
      "153/153 [==============================] - 1s 3ms/step - loss: 0.3794 - accuracy: 0.8417 - val_loss: 0.4771 - val_accuracy: 0.7742\n",
      "Epoch 4/10\n",
      "153/153 [==============================] - 0s 2ms/step - loss: 0.3592 - accuracy: 0.8491 - val_loss: 0.4861 - val_accuracy: 0.7906\n",
      "Epoch 5/10\n",
      "153/153 [==============================] - 0s 2ms/step - loss: 0.3453 - accuracy: 0.8573 - val_loss: 0.4821 - val_accuracy: 0.7857\n",
      "Epoch 6/10\n",
      "153/153 [==============================] - 0s 3ms/step - loss: 0.3352 - accuracy: 0.8619 - val_loss: 0.4968 - val_accuracy: 0.7898\n",
      "Epoch 7/10\n",
      "153/153 [==============================] - 0s 2ms/step - loss: 0.3206 - accuracy: 0.8719 - val_loss: 0.5064 - val_accuracy: 0.7874\n",
      "Epoch 8/10\n",
      "153/153 [==============================] - 0s 2ms/step - loss: 0.3133 - accuracy: 0.8812 - val_loss: 0.5153 - val_accuracy: 0.7915\n",
      "Epoch 9/10\n",
      "153/153 [==============================] - 0s 2ms/step - loss: 0.3047 - accuracy: 0.8805 - val_loss: 0.5184 - val_accuracy: 0.7882\n",
      "Epoch 10/10\n",
      "153/153 [==============================] - 0s 3ms/step - loss: 0.2971 - accuracy: 0.8834 - val_loss: 0.5414 - val_accuracy: 0.7783\n"
     ]
    }
   ],
   "source": [
    "# Build the model with the optimal hyperparameters and train it on the data for 50 epochs\n",
    "model_tuned = tuner.hypermodel.build(best_hps)\n",
    "history_tuned = model_tuned.fit(train_data, train_labels, epochs=hparams[\"epochs\"], validation_split=0.2)"
   ]
  },
  {
   "cell_type": "code",
   "execution_count": 26,
   "id": "f365bf18-a238-43d3-a146-3d2f494ad008",
   "metadata": {},
   "outputs": [
    {
     "name": "stdout",
     "output_type": "stream",
     "text": [
      "48/48 [==============================] - 0s 790us/step - loss: 0.5579 - accuracy: 0.7702\n",
      "[test loss, test accuracy]: [0.5579403042793274, 0.770190417766571]\n"
     ]
    }
   ],
   "source": [
    "eval_result = model_tuned.evaluate(test_data, test_labels)\n",
    "print(\"[test loss, test accuracy]:\", eval_result)"
   ]
  },
  {
   "cell_type": "code",
   "execution_count": 33,
   "id": "3598d4b6-be3b-40b1-9e9e-fb6265f28eaf",
   "metadata": {},
   "outputs": [],
   "source": [
    "model_tuned.save(os.path.join(model_folder, 'text_classifier_model.keras'))"
   ]
  },
  {
   "cell_type": "markdown",
   "id": "0c24ab3c-0ed3-48e8-88c7-efee5b88bc3c",
   "metadata": {},
   "source": [
    "### Summary\n",
    "\n",
    "| Algorithm | Accuracy (in test data) |\n",
    "| --- | ----------- |\n",
    "| RNN model with 1 LSTM layer | 0.7676 |\n",
    "| RNN model with 1 LSTM and 1 BatchNormalization layers | 0.7163 |\n",
    "| RNN model with 1 LSTM layer and hyperparameter optimization | 0.7702 |"
   ]
  },
  {
   "cell_type": "markdown",
   "id": "cfe797f3-a6a4-4f75-9e2f-7efdf907f613",
   "metadata": {},
   "source": [
    "## Conclusion"
   ]
  },
  {
   "cell_type": "markdown",
   "id": "5e543da2-4be0-41dd-b72f-74636febb696",
   "metadata": {},
   "source": [
    "**What improved model performance**: Hyperparameter tuning, but very slightly. \n",
    "\n",
    "**What did not help improve model performance**: Adding the batch norm layer.\n",
    "\n",
    "**Improvements to try in the future**:\n",
    "* add more fully connected layers before the output\n",
    "* add more LSTM layers to the model\n",
    "* add other types of RNN layers, such as Gated recurrent units (GRUs)\n",
    "* tune other hyperparameters, such as the ones in the Embedding layer\n",
    "* preprocess the text data in more depth, such as removing stop words"
   ]
  },
  {
   "cell_type": "code",
   "execution_count": 27,
   "id": "2798cb60-b8cf-49be-adab-0c66e312dbce",
   "metadata": {},
   "outputs": [],
   "source": [
    "submission_texts = test_orig['text'].str.replace('#', '')\n",
    "submission_sequences = tokenizer.texts_to_sequences(submission_texts)\n",
    "submission_data = pad_sequences(submission_sequences, maxlen=hparams[\"max_sequence_length\"])"
   ]
  },
  {
   "cell_type": "code",
   "execution_count": 28,
   "id": "d42bc434-2e66-4672-b6a8-eca55a920540",
   "metadata": {},
   "outputs": [
    {
     "name": "stdout",
     "output_type": "stream",
     "text": [
      "102/102 [==============================] - 0s 494us/step\n"
     ]
    }
   ],
   "source": [
    "test_orig['pred_score'] = model_tuned.predict(submission_data)"
   ]
  },
  {
   "cell_type": "code",
   "execution_count": 29,
   "id": "77a44768-2952-480e-8145-953cd21cb0f8",
   "metadata": {},
   "outputs": [],
   "source": [
    "test_orig['target'] = np.where(test_orig['pred_score'] >= 0.5, 1, 0)"
   ]
  },
  {
   "cell_type": "code",
   "execution_count": 30,
   "id": "cefc45d5-30fd-4f4f-8fbf-a11461abd724",
   "metadata": {},
   "outputs": [],
   "source": [
    "test_orig[['id', 'target']].to_csv(os.path.join(project_root, 'submit.csv'), index = False)"
   ]
  }
 ],
 "metadata": {
  "kernelspec": {
   "display_name": "Python 3 (ipykernel)",
   "language": "python",
   "name": "python3"
  },
  "language_info": {
   "codemirror_mode": {
    "name": "ipython",
    "version": 3
   },
   "file_extension": ".py",
   "mimetype": "text/x-python",
   "name": "python",
   "nbconvert_exporter": "python",
   "pygments_lexer": "ipython3",
   "version": "3.11.6"
  }
 },
 "nbformat": 4,
 "nbformat_minor": 5
}
